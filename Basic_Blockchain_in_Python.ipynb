{
 "cells": [
  {
   "cell_type": "code",
   "execution_count": 1,
   "id": "d7a8023d",
   "metadata": {},
   "outputs": [],
   "source": [
    "from hashlib import sha256\n",
    "import json\n",
    "\n",
    "class Block:\n",
    "    def __init__(self, index, transactions, timestamp, previous_hash, nonce=0):\n",
    "        self.index = index\n",
    "        self.transactions = transactions\n",
    "        self.timestamp = timestamp\n",
    "        self.previous_hash = previous_hash\n",
    "        self.nonce = nonce\n",
    "\n",
    "    def compute_hash(self):\n",
    "        block_string = json.dumps(self.__dict__, sort_keys=True)\n",
    "        return sha256(block_string.encode()).hexdigest()"
   ]
  },
  {
   "cell_type": "code",
   "execution_count": 2,
   "id": "faddbe78",
   "metadata": {},
   "outputs": [],
   "source": [
    "class Blockchain:     \n",
    "   def __init__(self):\n",
    "      pass\n",
    "\n",
    "class Blockchain: \n",
    "    def __init__(self):\n",
    "        self.unconfirmed_transactions = []\n",
    "        self.chain = []\n",
    "        self.create_genesis_block()"
   ]
  },
  {
   "cell_type": "code",
   "execution_count": 3,
   "id": "b28450a6",
   "metadata": {},
   "outputs": [],
   "source": [
    "def create_genesis_block(self):\n",
    "        genesis_block = Block(0, [], time.time(), \"0\")\n",
    "        genesis_block.hash = genesis_block.compute_hash()\n",
    "        self.chain.append(genesis_block)"
   ]
  },
  {
   "cell_type": "code",
   "execution_count": 4,
   "id": "6bad9d2c",
   "metadata": {},
   "outputs": [],
   "source": [
    "def get_last_block(self):\n",
    "    last_block = self.__chain[-1]"
   ]
  },
  {
   "cell_type": "code",
   "execution_count": 5,
   "id": "a5133b3a",
   "metadata": {},
   "outputs": [],
   "source": [
    "def proof_of_work(self, block):\n",
    "        block.nonce = 1 #test\n",
    "        computed_hash = block.compute_hash()\n",
    "        while not computed_hash.startswith('0' * Blockchain.difficulty):\n",
    "            block.nonce += 1\n",
    "            computed_hash = block.compute_hash()\n",
    "        return computed_hash"
   ]
  },
  {
   "cell_type": "code",
   "execution_count": 6,
   "id": "5fa2b7da",
   "metadata": {},
   "outputs": [],
   "source": [
    "def is_valid_proof(self, block, block_hash):\n",
    "        return (block_hash.startswith('0' * Blockchain.difficulty) and\n",
    "                block_hash == block.compute_hash())"
   ]
  },
  {
   "cell_type": "code",
   "execution_count": 7,
   "id": "ec877294",
   "metadata": {},
   "outputs": [],
   "source": [
    "def add_block(self, block, proof):\n",
    "        previous_hash = self.last_block.hash\n",
    "        if previous_hash != block.previous_hash:\n",
    "            return False\n",
    "        if not self.is_valid_proof(block, proof):\n",
    "            return False\n",
    "        block.hash = proof"
   ]
  },
  {
   "cell_type": "code",
   "execution_count": 8,
   "id": "d1c212bf",
   "metadata": {},
   "outputs": [],
   "source": [
    " def add_new_transaction(self, transaction):\n",
    "            self.unconfirmed_transactions.append(transaction)"
   ]
  },
  {
   "cell_type": "code",
   "execution_count": null,
   "id": "8f0ca89d",
   "metadata": {},
   "outputs": [],
   "source": [
    "def mine(self):\n",
    "        if not self.unconfirmed_transactions:\n",
    "            return False\n",
    " \n",
    "        last_block = self.last_block\n",
    " \n",
    "        new_block = Block(index=last_block.index + 1,\n",
    "                          transactions=self.unconfirmed_transactions,\n",
    "                          timestamp=time.time(),\n",
    "                          previous_hash=last_block.hash)\n",
    "        proof = self.proof_of_work(new_block)\n",
    "        self.add_block(new_block, proof)\n",
    "        self.unconfirmed_transactions = []\n",
    "        return new_block.index"
   ]
  }
 ],
 "metadata": {
  "kernelspec": {
   "display_name": "Python 3",
   "language": "python",
   "name": "python3"
  },
  "language_info": {
   "codemirror_mode": {
    "name": "ipython",
    "version": 3
   },
   "file_extension": ".py",
   "mimetype": "text/x-python",
   "name": "python",
   "nbconvert_exporter": "python",
   "pygments_lexer": "ipython3",
   "version": "3.6.13"
  }
 },
 "nbformat": 4,
 "nbformat_minor": 5
}
